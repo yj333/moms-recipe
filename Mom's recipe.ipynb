{
 "cells": [
  {
   "cell_type": "markdown",
   "metadata": {},
   "source": [
    "The program takes in a list of greens, a list of veggies and a list of meat, returns all combinations between one green and one meat, one vegetable and one meat,  two vegetables and one meat.\n",
    "\n",
    "大排骨不可以和其它搭配\n",
    "五花肉不能和绿叶菜搭配\n",
    "。。。\n"
   ]
  },
  {
   "cell_type": "code",
   "execution_count": 1,
   "metadata": {},
   "outputs": [],
   "source": [
    "import pandas as pd\n",
    "from collections import defaultdict"
   ]
  },
  {
   "cell_type": "code",
   "execution_count": 2,
   "metadata": {},
   "outputs": [],
   "source": [
    "df = pd.read_excel('妈妈的清单.xlsx')\n",
    "greens = [g for g in df['绿叶菜'] if str(g) != 'nan']\n",
    "veggies = [v for v in df['素菜'] if str(v) != 'nan']\n",
    "meats = [m for m in df['荤菜'] if str(m) != 'nan']"
   ]
  },
  {
   "cell_type": "code",
   "execution_count": 3,
   "metadata": {},
   "outputs": [],
   "source": [
    "combo_index = range(3)\n",
    "combo_types = [{'num_green':0,'num_veg':1,'num_meat':1},{'num_green':1,'num_veg':0,'num_meat':1},{'num_green':0,'num_veg':2,'num_meat':1}]\n",
    "combo_dict = dict(zip(combo_index, combo_types))"
   ]
  },
  {
   "cell_type": "code",
   "execution_count": 4,
   "metadata": {
    "scrolled": true
   },
   "outputs": [
    {
     "name": "stdout",
     "output_type": "stream",
     "text": [
      "请从以下组合中挑选您想要的搭配（输入序列号即可）：\n",
      "1. 一份素菜+一份荤菜 \n",
      "2. 一份绿叶菜+一份荤菜\n",
      "3. 两份素菜+一份荤菜\n",
      "1\n"
     ]
    }
   ],
   "source": [
    "moms_choice = input(\"请从以下组合中挑选您想要的搭配（输入序列号即可）：\\n1. 一份素菜+一份荤菜 \\n2. 一份绿叶菜+一份荤菜\\n3. 两份素菜+一份荤菜\\n\")\n"
   ]
  },
  {
   "cell_type": "code",
   "execution_count": 5,
   "metadata": {},
   "outputs": [],
   "source": [
    "#A recipe is a dictionary with keys for all meats, so it is easy to look up each meat in different receipes\n",
    "def generate_recipes(greens, veggies, meats, combos, moms_input):\n",
    "    \n",
    "    combination = combos[int(moms_input)-1]\n",
    "    num_greens = combination['num_green']\n",
    "    num_veggies = combination['num_veg']\n",
    "    num_meat = combination['num_meat']\n",
    "    \n",
    "    receipes = defaultdict(list)\n",
    "    \n",
    "    if (num_greens == 0)&(num_veggies == 1)&(num_meat == 1):\n",
    "        for i, veg in enumerate(veggies):\n",
    "            for n, meat in enumerate(meats):\n",
    "                if meat == '大排骨':\n",
    "                    continue\n",
    "                else:\n",
    "                    receipes[meat].append([veg, meat])\n",
    "                \n",
    "    elif (num_greens == 1)&(num_veggies == 0)&(num_meat == 1):\n",
    "        for i, green in enumerate(greens):\n",
    "            for n, meat in enumerate(meats):\n",
    "                if meat == '大排骨' or (meat == '小排骨' and green != '白菜') or meat == '五花肉' :\n",
    "                    continue\n",
    "                else:\n",
    "                    receipes[meat].append([green, meat])\n",
    "                \n",
    "    elif (num_greens == 0)&(num_veggies == 2)&(num_meat == 1):\n",
    "        for i, veg1 in enumerate(veggies):\n",
    "            for j, veg2 in enumerate(veggies[i+1:]):\n",
    "                if (veg1 == '胡萝卜' and veg2 == '白萝卜') or (veg1 == '豆腐干' and veg2 == '豆腐'):\n",
    "                    continue\n",
    "                else:\n",
    "                    for n, meat in enumerate(meats):\n",
    "                        if meat == '大排骨':\n",
    "                            continue\n",
    "                        else:\n",
    "                            receipes[meat].append([veg1, veg2, meat])\n",
    "\n",
    "    return receipes"
   ]
  },
  {
   "cell_type": "code",
   "execution_count": 6,
   "metadata": {
    "scrolled": true
   },
   "outputs": [],
   "source": [
    "moms_recipes = generate_recipes(greens, veggies, meats, combo_dict, moms_choice)"
   ]
  },
  {
   "cell_type": "code",
   "execution_count": 7,
   "metadata": {
    "scrolled": false
   },
   "outputs": [
    {
     "data": {
      "text/plain": [
       "[['胡萝卜', '五花肉'],\n",
       " ['白萝卜', '五花肉'],\n",
       " ['百叶', '五花肉'],\n",
       " ['油面筋', '五花肉'],\n",
       " ['豆腐干', '五花肉'],\n",
       " ['豆腐', '五花肉'],\n",
       " ['笋', '五花肉'],\n",
       " ['洋葱', '五花肉'],\n",
       " ['大蒜', '五花肉'],\n",
       " ['茄子', '五花肉'],\n",
       " ['黑木耳', '五花肉'],\n",
       " ['香菇', '五花肉'],\n",
       " ['蘑菇', '五花肉'],\n",
       " ['土豆', '五花肉'],\n",
       " ['粉丝', '五花肉'],\n",
       " ['番茄', '五花肉']]"
      ]
     },
     "execution_count": 7,
     "metadata": {},
     "output_type": "execute_result"
    }
   ],
   "source": [
    "moms_recipes['五花肉']"
   ]
  },
  {
   "cell_type": "code",
   "execution_count": null,
   "metadata": {},
   "outputs": [],
   "source": []
  }
 ],
 "metadata": {
  "kernelspec": {
   "display_name": "Python [conda env:anaconda3]",
   "language": "python",
   "name": "conda-env-anaconda3-py"
  },
  "language_info": {
   "codemirror_mode": {
    "name": "ipython",
    "version": 3
   },
   "file_extension": ".py",
   "mimetype": "text/x-python",
   "name": "python",
   "nbconvert_exporter": "python",
   "pygments_lexer": "ipython3",
   "version": "3.6.4"
  }
 },
 "nbformat": 4,
 "nbformat_minor": 2
}
